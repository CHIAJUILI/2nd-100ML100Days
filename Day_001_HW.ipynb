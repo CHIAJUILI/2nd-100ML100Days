HW1：
請上 Kaggle, 在 Competitions 或 Dataset 中找一組競賽或資料並寫下：
1. 你選的這組資料為何重要？
2. 資料從何而來 (tips: 譬如提供者是誰、以什麼方式蒐集)？
3. 蒐集而來的資料型態為何？
4. 這組資料想解決的問題如何評估？

Ans1：
1.我選擇News Headlines Dataset For Sarcasm Detection，想要如何分辨新聞帶有諷刺的句子。網址如下：
https://www.kaggle.com/rmisra/news-headlines-dataset-for-sarcasm-detection
2.This dataset was collected from TheOnion and HuffPost. 
3.結構化數據為.json
4.accuracy_score & confusion_matrix區分諷刺新聞與非諷刺新聞
